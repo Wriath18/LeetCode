{
 "cells": [
  {
   "cell_type": "code",
   "execution_count": 1,
   "metadata": {},
   "outputs": [],
   "source": [
    "import numpy as np"
   ]
  },
  {
   "cell_type": "code",
   "execution_count": 6,
   "metadata": {},
   "outputs": [
    {
     "ename": "SyntaxError",
     "evalue": "incomplete input (3806689106.py, line 9)",
     "output_type": "error",
     "traceback": [
      "\u001b[1;36m  Cell \u001b[1;32mIn[6], line 9\u001b[1;36m\u001b[0m\n\u001b[1;33m    \u001b[0m\n\u001b[1;37m    ^\u001b[0m\n\u001b[1;31mSyntaxError\u001b[0m\u001b[1;31m:\u001b[0m incomplete input\n"
     ]
    }
   ],
   "source": [
    "class Solution:\n",
    "    def divideArray(self, nums, k):\n",
    "        result = []\n",
    "\n",
    "        for i in nums:\n",
    "            e = 0\n",
    "            temp = [q*0 for q in range(3)]\n",
    "            temp[e] = nums[i]\n",
    "            e += 1\n",
    "            for j in range(nums.index(i)+1,len(nums)):\n",
    "                if nums[j] - i <= k:\n",
    "                    if e <= 2:\n",
    "                        temp[e] = nums[j]\n",
    "                        nums.remove(i)\n",
    "                        nums.remove(nums[j])\n",
    "                        e += 1\n",
    "                    else:\n",
    "                        continue\n",
    "\n",
    "\n",
    "            result.append(temp)\n",
    "\n",
    "        return result\n",
    "\n",
    "\n"
   ]
  },
  {
   "cell_type": "code",
   "execution_count": null,
   "metadata": {},
   "outputs": [],
   "source": [
    "class Solution:\n",
    "    def divideArray(self, nums, k):\n",
    "        result = []\n",
    "        nums.sort()\n",
    "\n",
    "        for i in range(0, len(nums), 3):\n",
    "            if i+2 >= len(nums) or nums[i+2] - nums[i] > k:\n",
    "                return []\n",
    "            result.append(nums[i:i+3])\n",
    "        return result\n",
    "\n",
    "\n",
    "\n"
   ]
  }
 ],
 "metadata": {
  "kernelspec": {
   "display_name": "Python 3",
   "language": "python",
   "name": "python3"
  },
  "language_info": {
   "codemirror_mode": {
    "name": "ipython",
    "version": 3
   },
   "file_extension": ".py",
   "mimetype": "text/x-python",
   "name": "python",
   "nbconvert_exporter": "python",
   "pygments_lexer": "ipython3",
   "version": "3.10.11"
  }
 },
 "nbformat": 4,
 "nbformat_minor": 2
}
